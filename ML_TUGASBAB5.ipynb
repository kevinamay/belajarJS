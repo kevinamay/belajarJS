{
  "nbformat": 4,
  "nbformat_minor": 0,
  "metadata": {
    "colab": {
      "provenance": [],
      "include_colab_link": true
    },
    "kernelspec": {
      "name": "python3",
      "display_name": "Python 3"
    },
    "language_info": {
      "name": "python"
    }
  },
  "cells": [
    {
      "cell_type": "markdown",
      "metadata": {
        "id": "view-in-github",
        "colab_type": "text"
      },
      "source": [
        "<a href=\"https://colab.research.google.com/github/kevinamay/belajarJS/blob/main/ML_TUGASBAB5.ipynb\" target=\"_parent\"><img src=\"https://colab.research.google.com/assets/colab-badge.svg\" alt=\"Open In Colab\"/></a>"
      ]
    },
    {
      "cell_type": "markdown",
      "source": [
        "# TUGAS **5.4**"
      ],
      "metadata": {
        "id": "j2ja0OuxB-FP"
      }
    },
    {
      "cell_type": "code",
      "execution_count": null,
      "metadata": {
        "colab": {
          "base_uri": "https://localhost:8080/"
        },
        "id": "uce0KBEzL7ET",
        "outputId": "2e7ad4b4-8f28-472d-cc08-b52a0888defd"
      },
      "outputs": [
        {
          "output_type": "stream",
          "name": "stdout",
          "text": [
            "[2 2 1 0 0 0 1 2 2 0 2 1 1 0 2 2 1 0 2]\n",
            "Suhu: [1 1 1 2 0 0 0 2 0 2 2 2 1 2 1 1 2 1 1]\n",
            "Kuliah: [1 1 2 2 2 1 2 1 0 2 2 2 2 1 1 1 1 2 1]\n",
            "[(2, 1), (2, 1), (1, 1), (0, 2), (0, 0), (0, 0), (1, 0), (2, 2), (2, 0), (0, 2), (2, 2), (1, 2), (1, 1), (0, 2), (2, 1), (2, 1), (1, 2), (0, 1), (2, 1)]\n",
            "True label: [1, 0]\n"
          ]
        }
      ],
      "source": [
        "#TUGAS 5.4\n",
        "\n",
        "#Dataset\n",
        "# cuaca=['panas', 'panas', 'mendung', 'hujan', 'hujan', 'hujan', 'mendung', 'panas', 'panas','hujan', 'panas', 'mendung', 'mendung', 'hujan']\n",
        "# kategori_suhu=['Hot', 'Hot', 'Hot', 'Mild', 'Cool', 'Cool', 'Cool', 'Mild', 'Cool', 'Mild', 'Mild', 'Mild', 'Hot', 'Mild']\n",
        "# kuliah=['Tidak', 'Tidak', 'Ya', 'Ya', 'Ya', 'Tidak', 'Ya', 'Tidak',' Ya', 'Ya', 'Ya', 'Ya', 'Ya', 'Tidak']\n",
        "cuaca=['panas', 'panas', 'mendung', 'hujan', 'hujan', 'hujan', 'mendung', 'panas', 'panas','hujan', 'panas', 'mendung', 'mendung', 'hujan','panas','panas','mendung','hujan','panas']\n",
        "kategori_suhu=['Hot', 'Hot', 'Hot', 'Mild', 'Cool', 'Cool', 'Cool', 'Mild', 'Cool', 'Mild', 'Mild', 'Mild', 'Hot', 'Mild','Hot','Hot','Mild','Hot','Hot']\n",
        "kuliah=['Tidak', 'Tidak', 'Ya', 'Ya', 'Ya', 'Tidak', 'Ya', 'Tidak',' Ya', 'Ya', 'Ya', 'Ya', 'Ya', 'Tidak','Tidak','Tidak','Tidak','Ya','Tidak']\n",
        "# Import LabelEncoder\n",
        "from sklearn import preprocessing\n",
        "#buat labelEncoder\n",
        "le = preprocessing.LabelEncoder() #konversi label string ke angka\n",
        "cuaca_encoded = le.fit_transform(cuaca)\n",
        "print(cuaca_encoded)\n",
        "#konversi string labels ke numbers\n",
        "suhu_encoded = le.fit_transform(kategori_suhu)\n",
        "label = le.fit_transform(kuliah)\n",
        "print(\"Suhu:\", suhu_encoded)\n",
        "print(\"Kuliah:\", label)\n",
        "#gabungkan cuaca & suhu dalam 1 list of tuples\n",
        "fitur = list(zip (cuaca_encoded, suhu_encoded))\n",
        "print(fitur)\n",
        "#Import Gaussian Naive Bayes model\n",
        "from sklearn.naive_bayes import GaussianNB\n",
        "# Create a Gaussian Classifier\n",
        "model = GaussianNB()\n",
        "#Train the model using the training sets\n",
        "model.fit(fitur, label)\n",
        "#Predict Output\n",
        "predicted = model.predict([[0,2], [2,0]]) #0: Overcast, 2:Mild\n",
        "truelabel = [1, 0]\n",
        "print(\"True label:\", truelabel)"
      ]
    },
    {
      "cell_type": "code",
      "source": [
        "# Import necessary libraries\n",
        "from sklearn.metrics import accuracy_score, confusion_matrix\n",
        "import seaborn as sns\n",
        "import matplotlib.pyplot as plt\n",
        "\n",
        "# Define the test data\n",
        "test_data = [[0, 2], [2, 0]]\n",
        "true_labels = [1, 0]\n",
        "\n",
        "# Predict Output\n",
        "predicted = model.predict(test_data)\n",
        "\n",
        "# Calculate accuracy\n",
        "accuracy = accuracy_score(true_labels, predicted)\n",
        "print(\"Accuracy:\", accuracy)\n",
        "\n",
        "# Create confusion matrix\n",
        "cm = confusion_matrix(true_labels, predicted)\n",
        "\n",
        "# Create a seaborn heatmap for confusion matrix visualization\n",
        "plt.figure(figsize=(8, 6))\n",
        "sns.heatmap(cm, annot=True, fmt='d', cmap='Blues', xticklabels=['Tidak', 'Ya'], yticklabels=['Tidak', 'Ya'])\n",
        "plt.xlabel('Predicted')\n",
        "plt.ylabel('True')\n",
        "plt.title('Confusion Matrix')\n",
        "plt.show()\n"
      ],
      "metadata": {
        "colab": {
          "base_uri": "https://localhost:8080/",
          "height": 581
        },
        "id": "G6J4uNbkOB5b",
        "outputId": "a0a0561a-30ab-44fc-abab-6fbe909b7e4d"
      },
      "execution_count": null,
      "outputs": [
        {
          "output_type": "stream",
          "name": "stdout",
          "text": [
            "Accuracy: 0.5\n"
          ]
        },
        {
          "output_type": "display_data",
          "data": {
            "text/plain": [
              "<Figure size 800x600 with 2 Axes>"
            ],
            "image/png": "[encoded data removed]"
          },
          "metadata": {}
        }
      ]
    },
    {
      "cell_type": "markdown",
      "source": [
        "Analisis Klasifikasi Naive Bayes\n",
        "Dataset:\n",
        "•\tCuaca: ['panas', 'panas', 'mendung', 'hujan', 'hujan', 'hujan', 'mendung', 'panas', 'panas','hujan', 'panas', 'mendung', 'mendung', 'hujan']\n",
        "•\tKategori Suhu: ['Hot', 'Hot', 'Hot', 'Mild', 'Cool', 'Cool', 'Cool', 'Mild', 'Cool', 'Mild', 'Mild', 'Mild', 'Hot', 'Mild']\n",
        "•\tKuliah: ['Tidak', 'Tidak', 'Ya', 'Ya', 'Ya', 'Tidak', 'Ya', 'Tidak',' Ya', 'Ya', 'Ya', 'Ya', 'Ya', 'Tidak']\n",
        "\n",
        "Label Encoding:\n",
        "•\tCuaca: [0, 0, 2, 3, 3, 3, 2, 0, 0, 3, 0, 2, 2, 3]\n",
        "•\tKategori Suhu: [2, 2, 2, 1, 0, 0, 0, 2, 0, 2, 2, 2, 1, 2]\n",
        "•\tKuliah: [0, 0, 1, 1, 1, 0, 1, 0, 1, 1, 1, 1, 1, 0]\n",
        "\n",
        "Fitur:\n",
        "•\t[(2, 1), (2, 1), (1, 1), (0, 2), (0, 0), (0, 0), (1, 0), (2, 2), (2, 0), (0, 2), (2, 2), (1, 2), (1, 1), (0, 2)]\n",
        "\n",
        "Model Gaussian Naive Bayes:\n",
        "•\tModel dilatih dengan fitur dan label.\n",
        "Prediksi:\n",
        "•\tPrediksi untuk input [(2, 1), (2, 1)] adalah [1, 1].\n",
        "\n",
        "Analisis\n",
        "Situasi pertama: Cuaca panas dan suhu Mild\n",
        "Hasil prediksi: Ya (1)\n",
        "Label sebenarnya: Ya (1)\n",
        "Prediksi yang benar.\n",
        "\n",
        "Situasi kedua: Cuaca mendung dan suhu Hot\n",
        "Hasil prediksi: Ya (1)\n",
        "Label sebenarnya: Tidak (0)\n",
        "Prediksi yang salah.\n",
        "\n",
        "Jika dievaluasi prediksi ini:\n",
        "Prediksi pertama benar, namun prediksi kedua salah. Meskipun cuaca mendung dan suhu Hot adalah fitur yang terdapat dalam dataset, namun prediksi yang dilakukan oleh model tidak sesuai dengan label sebenarnya.\n",
        "\n"
      ],
      "metadata": {
        "id": "wvnteKpiY16R"
      }
    },
    {
      "cell_type": "markdown",
      "source": [
        "# TUGAS **5.5**"
      ],
      "metadata": {
        "id": "qSPuvGTsB0ym"
      }
    },
    {
      "cell_type": "code",
      "source": [
        "import numpy as np\n",
        "import matplotlib.pyplot as plt\n",
        "import pandas as pd"
      ],
      "metadata": {
        "id": "7z8_oEIxCIHM"
      },
      "execution_count": null,
      "outputs": []
    },
    {
      "cell_type": "code",
      "source": [
        "dataset = pd.read_csv('/content/sample_data/california_housing_train.csv')\n",
        "#https://drive.google.com/file/d/1sQTNBJVJATVUesZ7XOjJTbSN4-pgGyJA/view?usp=drive_link\n",
        "x = dataset.iloc[:, [1, 3]].values\n",
        "y = dataset.iloc[:, -1].values"
      ],
      "metadata": {
        "id": "wIhqRNq8COlt"
      },
      "execution_count": null,
      "outputs": []
    },
    {
      "cell_type": "code",
      "source": [
        "print (x)"
      ],
      "metadata": {
        "colab": {
          "base_uri": "https://localhost:8080/"
        },
        "id": "YFfYMQGqCZaf",
        "outputId": "78eeb069-b419-4eb6-b59d-47a0e2634ea7"
      },
      "execution_count": null,
      "outputs": [
        {
          "output_type": "stream",
          "name": "stdout",
          "text": [
            "[[  34.19 5612.  ]\n",
            " [  34.4  7650.  ]\n",
            " [  33.69  720.  ]\n",
            " ...\n",
            " [  41.84 2677.  ]\n",
            " [  41.8  2672.  ]\n",
            " [  40.54 1820.  ]]\n"
          ]
        }
      ]
    },
    {
      "cell_type": "code",
      "source": [
        "print (y)"
      ],
      "metadata": {
        "colab": {
          "base_uri": "https://localhost:8080/"
        },
        "id": "8D1dwsrqCrFL",
        "outputId": "f3a101e7-83da-40d8-f109-28a116da652e"
      },
      "execution_count": null,
      "outputs": [
        {
          "output_type": "stream",
          "name": "stdout",
          "text": [
            "[ 66900.  80100.  85700. ... 103600.  85800.  94600.]\n"
          ]
        }
      ]
    },
    {
      "cell_type": "code",
      "source": [
        "from sklearn.model_selection import train_test_split\n",
        "x_train, x_test, y_train, y_test = train_test_split(x,y, test_size=0.25, random_state=0)"
      ],
      "metadata": {
        "id": "9Ccc5248CsTE"
      },
      "execution_count": null,
      "outputs": []
    },
    {
      "cell_type": "code",
      "source": [
        "print (x_train)"
      ],
      "metadata": {
        "colab": {
          "base_uri": "https://localhost:8080/"
        },
        "id": "KhUQKJ0JCwjM",
        "outputId": "af871751-a23c-4fbd-abce-b3161610fa4d"
      },
      "execution_count": null,
      "outputs": [
        {
          "output_type": "stream",
          "name": "stdout",
          "text": [
            "[[  33.82 5591.  ]\n",
            " [  37.76  248.  ]\n",
            " [  34.07 1621.  ]\n",
            " ...\n",
            " [  36.88 2236.  ]\n",
            " [  35.28 3768.  ]\n",
            " [  33.59 3320.  ]]\n"
          ]
        }
      ]
    },
    {
      "cell_type": "code",
      "source": [
        "print (x_test)"
      ],
      "metadata": {
        "colab": {
          "base_uri": "https://localhost:8080/"
        },
        "id": "5CPWLvTgCzAB",
        "outputId": "9fed0482-b994-41b9-99a5-9f28301a94aa"
      },
      "execution_count": null,
      "outputs": [
        {
          "output_type": "stream",
          "name": "stdout",
          "text": [
            "[[  33.84 3418.  ]\n",
            " [  34.08 1479.  ]\n",
            " [  33.83 2971.  ]\n",
            " ...\n",
            " [  35.27 1401.  ]\n",
            " [  33.88 1623.  ]\n",
            " [  40.5  1927.  ]]\n"
          ]
        }
      ]
    },
    {
      "cell_type": "code",
      "source": [
        "from sklearn.preprocessing import StandardScaler\n",
        "sc = StandardScaler()\n",
        "x_train = sc.fit_transform(x_train)\n",
        "x_test = sc.fit_transform(x_test)"
      ],
      "metadata": {
        "id": "o9kkbCsdC1br"
      },
      "execution_count": null,
      "outputs": []
    },
    {
      "cell_type": "code",
      "source": [
        "print (x_train)"
      ],
      "metadata": {
        "colab": {
          "base_uri": "https://localhost:8080/"
        },
        "id": "KPkfyfmMC4Aj",
        "outputId": "a89a923a-5b88-4da3-e244-1f332e7dc076"
      },
      "execution_count": null,
      "outputs": [
        {
          "output_type": "stream",
          "name": "stdout",
          "text": [
            "[[-0.83922485  1.33504709]\n",
            " [ 1.00014469 -1.08693903]\n",
            " [-0.72251358 -0.46455705]\n",
            " ...\n",
            " [ 0.58932104 -0.18577706]\n",
            " [-0.15763106  0.50867975]\n",
            " [-0.94659921  0.30560099]]\n"
          ]
        }
      ]
    },
    {
      "cell_type": "code",
      "source": [
        "from sklearn.naive_bayes import GaussianNB\n",
        "classifier = GaussianNB()\n",
        "classifier.fit(x_train,y_train)"
      ],
      "metadata": {
        "colab": {
          "base_uri": "https://localhost:8080/",
          "height": 74
        },
        "id": "D7Qjm4WkC8Ha",
        "outputId": "bf0e5afc-b094-4001-c6cb-7783d59c5e3d"
      },
      "execution_count": null,
      "outputs": [
        {
          "output_type": "execute_result",
          "data": {
            "text/plain": [
              "GaussianNB()"
            ],
            "text/html": [
              "<style>#sk-container-id-2 {color: black;background-color: white;}#sk-container-id-2 pre{padding: 0;}#sk-container-id-2 div.sk-toggleable {background-color: white;}#sk-container-id-2 label.sk-toggleable__label {cursor: pointer;display: block;width: 100%;margin-bottom: 0;padding: 0.3em;box-sizing: border-box;text-align: center;}#sk-container-id-2 label.sk-toggleable__label-arrow:before {content: \"▸\";float: left;margin-right: 0.25em;color: #696969;}#sk-container-id-2 label.sk-toggleable__label-arrow:hover:before {color: black;}#sk-container-id-2 div.sk-estimator:hover label.sk-toggleable__label-arrow:before {color: black;}#sk-container-id-2 div.sk-toggleable__content {max-height: 0;max-width: 0;overflow: hidden;text-align: left;background-color: #f0f8ff;}#sk-container-id-2 div.sk-toggleable__content pre {margin: 0.2em;color: black;border-radius: 0.25em;background-color: #f0f8ff;}#sk-container-id-2 input.sk-toggleable__control:checked~div.sk-toggleable__content {max-height: 200px;max-width: 100%;overflow: auto;}#sk-container-id-2 input.sk-toggleable__control:checked~label.sk-toggleable__label-arrow:before {content: \"▾\";}#sk-container-id-2 div.sk-estimator input.sk-toggleable__control:checked~label.sk-toggleable__label {background-color: #d4ebff;}#sk-container-id-2 div.sk-label input.sk-toggleable__control:checked~label.sk-toggleable__label {background-color: #d4ebff;}#sk-container-id-2 input.sk-hidden--visually {border: 0;clip: rect(1px 1px 1px 1px);clip: rect(1px, 1px, 1px, 1px);height: 1px;margin: -1px;overflow: hidden;padding: 0;position: absolute;width: 1px;}#sk-container-id-2 div.sk-estimator {font-family: monospace;background-color: #f0f8ff;border: 1px dotted black;border-radius: 0.25em;box-sizing: border-box;margin-bottom: 0.5em;}#sk-container-id-2 div.sk-estimator:hover {background-color: #d4ebff;}#sk-container-id-2 div.sk-parallel-item::after {content: \"\";width: 100%;border-bottom: 1px solid gray;flex-grow: 1;}#sk-container-id-2 div.sk-label:hover label.sk-toggleable__label {background-color: #d4ebff;}#sk-container-id-2 div.sk-serial::before {content: \"\";position: absolute;border-left: 1px solid gray;box-sizing: border-box;top: 0;bottom: 0;left: 50%;z-index: 0;}#sk-container-id-2 div.sk-serial {display: flex;flex-direction: column;align-items: center;background-color: white;padding-right: 0.2em;padding-left: 0.2em;position: relative;}#sk-container-id-2 div.sk-item {position: relative;z-index: 1;}#sk-container-id-2 div.sk-parallel {display: flex;align-items: stretch;justify-content: center;background-color: white;position: relative;}#sk-container-id-2 div.sk-item::before, #sk-container-id-2 div.sk-parallel-item::before {content: \"\";position: absolute;border-left: 1px solid gray;box-sizing: border-box;top: 0;bottom: 0;left: 50%;z-index: -1;}#sk-container-id-2 div.sk-parallel-item {display: flex;flex-direction: column;z-index: 1;position: relative;background-color: white;}#sk-container-id-2 div.sk-parallel-item:first-child::after {align-self: flex-end;width: 50%;}#sk-container-id-2 div.sk-parallel-item:last-child::after {align-self: flex-start;width: 50%;}#sk-container-id-2 div.sk-parallel-item:only-child::after {width: 0;}#sk-container-id-2 div.sk-dashed-wrapped {border: 1px dashed gray;margin: 0 0.4em 0.5em 0.4em;box-sizing: border-box;padding-bottom: 0.4em;background-color: white;}#sk-container-id-2 div.sk-label label {font-family: monospace;font-weight: bold;display: inline-block;line-height: 1.2em;}#sk-container-id-2 div.sk-label-container {text-align: center;}#sk-container-id-2 div.sk-container {/* jupyter's `normalize.less` sets `[hidden] { display: none; }` but bootstrap.min.css set `[hidden] { display: none !important; }` so we also need the `!important` here to be able to override the default hidden behavior on the sphinx rendered scikit-learn.org. See: https://github.com/scikit-learn/scikit-learn/issues/21755 */display: inline-block !important;position: relative;}#sk-container-id-2 div.sk-text-repr-fallback {display: none;}</style><div id=\"sk-container-id-2\" class=\"sk-top-container\"><div class=\"sk-text-repr-fallback\"><pre>GaussianNB()</pre><b>In a Jupyter environment, please rerun this cell to show the HTML representation or trust the notebook. <br />On GitHub, the HTML representation is unable to render, please try loading this page with nbviewer.org.</b></div><div class=\"sk-container\" hidden><div class=\"sk-item\"><div class=\"sk-estimator sk-toggleable\"><input class=\"sk-toggleable__control sk-hidden--visually\" id=\"sk-estimator-id-2\" type=\"checkbox\" checked><label for=\"sk-estimator-id-2\" class=\"sk-toggleable__label sk-toggleable__label-arrow\">GaussianNB</label><div class=\"sk-toggleable__content\"><pre>GaussianNB()</pre></div></div></div></div></div>"
            ]
          },
          "metadata": {},
          "execution_count": 71
        }
      ]
    },
    {
      "cell_type": "code",
      "source": [
        "y_pred = classifier.predict(x_test)"
      ],
      "metadata": {
        "id": "J2Fdl-vWC9Bo"
      },
      "execution_count": null,
      "outputs": []
    },
    {
      "cell_type": "code",
      "source": [
        "from sklearn.metrics import confusion_matrix\n",
        "cm = confusion_matrix(y_test,y_pred)\n",
        "print(cm)"
      ],
      "metadata": {
        "colab": {
          "base_uri": "https://localhost:8080/"
        },
        "id": "ACiK6NJ_DBQO",
        "outputId": "e4893885-b6ec-4dc1-9336-74904704f65c"
      },
      "execution_count": null,
      "outputs": [
        {
          "output_type": "stream",
          "name": "stdout",
          "text": [
            "[[  0   0   0 ...   0   0   0]\n",
            " [  0   0   0 ...   0   0   1]\n",
            " [  0   0   0 ...   0   0   0]\n",
            " ...\n",
            " [  0   0   0 ...   0   0   1]\n",
            " [  0   0   0 ...   0   0   1]\n",
            " [  0   0   0 ...   0   0 117]]\n"
          ]
        }
      ]
    },
    {
      "cell_type": "code",
      "source": [
        "from matplotlib.colors import ListedColormap\n",
        "x_set, y_set = x_train, y_train\n",
        "x1,x2 = np.meshgrid(np.arange(start = x_set[:, 0].min() - 1, stop = x_set[:, 0].max() + 1, step = 0.01),\n",
        "                    np.arange(start = x_set[:, 1].min() - 1, stop = x_set[:, 1].max() + 1, step = 0.01)\n",
        "                    )\n",
        "plt.contourf(x1,x2, classifier.predict(np.array([x1.ravel(), x2.ravel()]).T).reshape(x1.shape),\n",
        "             alpha = 0.75, cmap = ListedColormap(('red','blue')))\n",
        "plt.xlim(x1.min(), x1.max())\n",
        "plt.ylim(x2.min(), x2.max())\n",
        "\n",
        "for i, j in enumerate (np.unique(y_set)):\n",
        "  plt.scatter(x_set[y_set == j , 0], x_set[y_set == j, 1],\n",
        "              c= ListedColormap(('red','blue'))(i),label = j)\n",
        "plt.title('Klasifikasi Data dgn Naive Bayes (Data Training)')\n",
        "plt.xlabel('Diameter')\n",
        "plt.ylabel('Height')\n",
        "plt.legend()\n",
        "plt.show"
      ],
      "metadata": {
        "id": "xb8h6PWRDGTq"
      },
      "execution_count": null,
      "outputs": []
    }
  ]
}